{
  "nbformat": 4,
  "nbformat_minor": 0,
  "metadata": {
    "colab": {
      "name": "Stock Price Prediction.ipynb",
      "provenance": [],
      "collapsed_sections": [],
      "authorship_tag": "ABX9TyOSqj6Uk96VEThnxDkcpM1X",
      "include_colab_link": true
    },
    "kernelspec": {
      "name": "python3",
      "display_name": "Python 3"
    },
    "language_info": {
      "name": "python"
    },
    "accelerator": "GPU"
  },
  "cells": [
    {
      "cell_type": "markdown",
      "metadata": {
        "id": "view-in-github",
        "colab_type": "text"
      },
      "source": [
        "<a href=\"https://colab.research.google.com/github/Harsh-Gehlot/StockPricePredictionWithLSTM/blob/main/Stock_Price_Prediction.ipynb\" target=\"_parent\"><img src=\"https://colab.research.google.com/assets/colab-badge.svg\" alt=\"Open In Colab\"/></a>"
      ]
    },
    {
      "cell_type": "markdown",
      "source": [
        "###**1. Import and Install Dependencies**"
      ],
      "metadata": {
        "id": "KBGj-u73HQBL"
      }
    },
    {
      "cell_type": "code",
      "execution_count": 1,
      "metadata": {
        "colab": {
          "base_uri": "https://localhost:8080/"
        },
        "id": "6OCVP19AF1xm",
        "outputId": "58665ccc-54f2-47a7-92b1-25007cc55535"
      },
      "outputs": [
        {
          "output_type": "stream",
          "name": "stdout",
          "text": [
            "Looking in indexes: https://pypi.org/simple, https://us-python.pkg.dev/colab-wheels/public/simple/\n",
            "Collecting yfinance\n",
            "  Downloading yfinance-0.1.70-py2.py3-none-any.whl (26 kB)\n",
            "Requirement already satisfied: numpy>=1.15 in /usr/local/lib/python3.7/dist-packages (from yfinance) (1.21.6)\n",
            "Requirement already satisfied: pandas>=0.24.0 in /usr/local/lib/python3.7/dist-packages (from yfinance) (1.3.5)\n",
            "Collecting requests>=2.26\n",
            "  Downloading requests-2.27.1-py2.py3-none-any.whl (63 kB)\n",
            "\u001b[K     |████████████████████████████████| 63 kB 805 kB/s \n",
            "\u001b[?25hCollecting lxml>=4.5.1\n",
            "  Downloading lxml-4.9.0-cp37-cp37m-manylinux_2_17_x86_64.manylinux2014_x86_64.manylinux_2_24_x86_64.whl (6.4 MB)\n",
            "\u001b[K     |████████████████████████████████| 6.4 MB 55.8 MB/s \n",
            "\u001b[?25hRequirement already satisfied: multitasking>=0.0.7 in /usr/local/lib/python3.7/dist-packages (from yfinance) (0.0.10)\n",
            "Requirement already satisfied: python-dateutil>=2.7.3 in /usr/local/lib/python3.7/dist-packages (from pandas>=0.24.0->yfinance) (2.8.2)\n",
            "Requirement already satisfied: pytz>=2017.3 in /usr/local/lib/python3.7/dist-packages (from pandas>=0.24.0->yfinance) (2022.1)\n",
            "Requirement already satisfied: six>=1.5 in /usr/local/lib/python3.7/dist-packages (from python-dateutil>=2.7.3->pandas>=0.24.0->yfinance) (1.15.0)\n",
            "Requirement already satisfied: urllib3<1.27,>=1.21.1 in /usr/local/lib/python3.7/dist-packages (from requests>=2.26->yfinance) (1.24.3)\n",
            "Requirement already satisfied: idna<4,>=2.5 in /usr/local/lib/python3.7/dist-packages (from requests>=2.26->yfinance) (2.10)\n",
            "Requirement already satisfied: certifi>=2017.4.17 in /usr/local/lib/python3.7/dist-packages (from requests>=2.26->yfinance) (2022.5.18.1)\n",
            "Requirement already satisfied: charset-normalizer~=2.0.0 in /usr/local/lib/python3.7/dist-packages (from requests>=2.26->yfinance) (2.0.12)\n",
            "Installing collected packages: requests, lxml, yfinance\n",
            "  Attempting uninstall: requests\n",
            "    Found existing installation: requests 2.23.0\n",
            "    Uninstalling requests-2.23.0:\n",
            "      Successfully uninstalled requests-2.23.0\n",
            "  Attempting uninstall: lxml\n",
            "    Found existing installation: lxml 4.2.6\n",
            "    Uninstalling lxml-4.2.6:\n",
            "      Successfully uninstalled lxml-4.2.6\n",
            "\u001b[31mERROR: pip's dependency resolver does not currently take into account all the packages that are installed. This behaviour is the source of the following dependency conflicts.\n",
            "google-colab 1.0.0 requires requests~=2.23.0, but you have requests 2.27.1 which is incompatible.\n",
            "datascience 0.10.6 requires folium==0.2.1, but you have folium 0.8.3 which is incompatible.\u001b[0m\n",
            "Successfully installed lxml-4.9.0 requests-2.27.1 yfinance-0.1.70\n"
          ]
        }
      ],
      "source": [
        "!pip install yfinance"
      ]
    },
    {
      "cell_type": "code",
      "source": [
        "import math # Mathematical functions\n",
        "from datetime import date, timedelta, datetime # Date Functions\n",
        "\n",
        "import numpy as np # Fundamental package for scientific computing with Python\n",
        "\n",
        "import pandas as pd # Additional functions for analysing and manipulating data\n",
        "from pandas.plotting import register_matplotlib_converters # This function adds plotting functions for calender dates\n",
        "\n",
        "import matplotlib.pyplot as plt # Important package for visualization - we use this to plot the market data\n",
        "import matplotlib.dates as mdates # Formatting dates\n",
        "import seaborn as sns # Visualization\n",
        "\n",
        "import tensorflow as tf\n",
        "from keras.models import Sequential # Deep learning library, used for neural networks\n",
        "from keras.layers import LSTM, Dense, Dropout # Deep learning classes for recurrent and regular densely-connected layers\n",
        "from keras.callbacks import EarlyStopping # EarlyStopping during model training\n",
        "from keras.activations import relu\n",
        "\n",
        "from sklearn.metrics import mean_absolute_error, mean_squared_error # Packages for measuring model performance / errors\n",
        "from sklearn.preprocessing import RobustScaler, MinMaxScaler # This Scaler removes the median and scales the data according to the quantile range to normalize the price data \n"
      ],
      "metadata": {
        "id": "Igy_m15fF-t9"
      },
      "execution_count": 2,
      "outputs": []
    },
    {
      "cell_type": "markdown",
      "source": [
        "**Download dataset**"
      ],
      "metadata": {
        "id": "4T98BgVZJadn"
      }
    },
    {
      "cell_type": "code",
      "source": [
        "import yfinance as yf \n",
        "\n",
        "start_date = '2020-02-27'\n",
        "end_date = '2022-03-01'\n",
        "# date_today = today.strftime(\"%Y-%m-%d\")\n",
        "symbol = 'RELIANCE.NS'\n",
        "\n",
        "df = yf.download(symbol, start=start_date, end=end_date)"
      ],
      "metadata": {
        "colab": {
          "base_uri": "https://localhost:8080/"
        },
        "id": "Pp838zGkGD9f",
        "outputId": "b3622c80-bd19-4383-a1f0-e66a73541d67"
      },
      "execution_count": 3,
      "outputs": [
        {
          "output_type": "stream",
          "name": "stdout",
          "text": [
            "\r[*********************100%***********************]  1 of 1 completed\n"
          ]
        }
      ]
    },
    {
      "cell_type": "code",
      "source": [
        "df.head()"
      ],
      "metadata": {
        "colab": {
          "base_uri": "https://localhost:8080/",
          "height": 238
        },
        "id": "wcudJ-7fGIjL",
        "outputId": "3d2fb91d-81b9-4f16-ff53-d8495d23c924"
      },
      "execution_count": 4,
      "outputs": [
        {
          "output_type": "execute_result",
          "data": {
            "text/plain": [
              "                   Open         High          Low        Close    Adj Close  \\\n",
              "Date                                                                          \n",
              "2020-02-27  1374.966675  1380.712280  1356.145142  1373.233154  1363.709229   \n",
              "2020-02-28  1342.177490  1344.257812  1312.558228  1316.173950  1307.045776   \n",
              "2020-03-02  1342.375610  1356.145142  1288.882690  1303.791382  1294.749023   \n",
              "2020-03-03  1317.214111  1341.186890  1309.586426  1330.240601  1321.014893   \n",
              "2020-03-04  1339.304688  1341.087769  1295.618774  1327.120239  1317.916016   \n",
              "\n",
              "              Volume  \n",
              "Date                  \n",
              "2020-02-27  11562875  \n",
              "2020-02-28  18144221  \n",
              "2020-03-02  13614473  \n",
              "2020-03-03  12644541  \n",
              "2020-03-04  10201574  "
            ],
            "text/html": [
              "\n",
              "  <div id=\"df-515ad51f-eec6-4499-aa15-66d797ec5734\">\n",
              "    <div class=\"colab-df-container\">\n",
              "      <div>\n",
              "<style scoped>\n",
              "    .dataframe tbody tr th:only-of-type {\n",
              "        vertical-align: middle;\n",
              "    }\n",
              "\n",
              "    .dataframe tbody tr th {\n",
              "        vertical-align: top;\n",
              "    }\n",
              "\n",
              "    .dataframe thead th {\n",
              "        text-align: right;\n",
              "    }\n",
              "</style>\n",
              "<table border=\"1\" class=\"dataframe\">\n",
              "  <thead>\n",
              "    <tr style=\"text-align: right;\">\n",
              "      <th></th>\n",
              "      <th>Open</th>\n",
              "      <th>High</th>\n",
              "      <th>Low</th>\n",
              "      <th>Close</th>\n",
              "      <th>Adj Close</th>\n",
              "      <th>Volume</th>\n",
              "    </tr>\n",
              "    <tr>\n",
              "      <th>Date</th>\n",
              "      <th></th>\n",
              "      <th></th>\n",
              "      <th></th>\n",
              "      <th></th>\n",
              "      <th></th>\n",
              "      <th></th>\n",
              "    </tr>\n",
              "  </thead>\n",
              "  <tbody>\n",
              "    <tr>\n",
              "      <th>2020-02-27</th>\n",
              "      <td>1374.966675</td>\n",
              "      <td>1380.712280</td>\n",
              "      <td>1356.145142</td>\n",
              "      <td>1373.233154</td>\n",
              "      <td>1363.709229</td>\n",
              "      <td>11562875</td>\n",
              "    </tr>\n",
              "    <tr>\n",
              "      <th>2020-02-28</th>\n",
              "      <td>1342.177490</td>\n",
              "      <td>1344.257812</td>\n",
              "      <td>1312.558228</td>\n",
              "      <td>1316.173950</td>\n",
              "      <td>1307.045776</td>\n",
              "      <td>18144221</td>\n",
              "    </tr>\n",
              "    <tr>\n",
              "      <th>2020-03-02</th>\n",
              "      <td>1342.375610</td>\n",
              "      <td>1356.145142</td>\n",
              "      <td>1288.882690</td>\n",
              "      <td>1303.791382</td>\n",
              "      <td>1294.749023</td>\n",
              "      <td>13614473</td>\n",
              "    </tr>\n",
              "    <tr>\n",
              "      <th>2020-03-03</th>\n",
              "      <td>1317.214111</td>\n",
              "      <td>1341.186890</td>\n",
              "      <td>1309.586426</td>\n",
              "      <td>1330.240601</td>\n",
              "      <td>1321.014893</td>\n",
              "      <td>12644541</td>\n",
              "    </tr>\n",
              "    <tr>\n",
              "      <th>2020-03-04</th>\n",
              "      <td>1339.304688</td>\n",
              "      <td>1341.087769</td>\n",
              "      <td>1295.618774</td>\n",
              "      <td>1327.120239</td>\n",
              "      <td>1317.916016</td>\n",
              "      <td>10201574</td>\n",
              "    </tr>\n",
              "  </tbody>\n",
              "</table>\n",
              "</div>\n",
              "      <button class=\"colab-df-convert\" onclick=\"convertToInteractive('df-515ad51f-eec6-4499-aa15-66d797ec5734')\"\n",
              "              title=\"Convert this dataframe to an interactive table.\"\n",
              "              style=\"display:none;\">\n",
              "        \n",
              "  <svg xmlns=\"http://www.w3.org/2000/svg\" height=\"24px\"viewBox=\"0 0 24 24\"\n",
              "       width=\"24px\">\n",
              "    <path d=\"M0 0h24v24H0V0z\" fill=\"none\"/>\n",
              "    <path d=\"M18.56 5.44l.94 2.06.94-2.06 2.06-.94-2.06-.94-.94-2.06-.94 2.06-2.06.94zm-11 1L8.5 8.5l.94-2.06 2.06-.94-2.06-.94L8.5 2.5l-.94 2.06-2.06.94zm10 10l.94 2.06.94-2.06 2.06-.94-2.06-.94-.94-2.06-.94 2.06-2.06.94z\"/><path d=\"M17.41 7.96l-1.37-1.37c-.4-.4-.92-.59-1.43-.59-.52 0-1.04.2-1.43.59L10.3 9.45l-7.72 7.72c-.78.78-.78 2.05 0 2.83L4 21.41c.39.39.9.59 1.41.59.51 0 1.02-.2 1.41-.59l7.78-7.78 2.81-2.81c.8-.78.8-2.07 0-2.86zM5.41 20L4 18.59l7.72-7.72 1.47 1.35L5.41 20z\"/>\n",
              "  </svg>\n",
              "      </button>\n",
              "      \n",
              "  <style>\n",
              "    .colab-df-container {\n",
              "      display:flex;\n",
              "      flex-wrap:wrap;\n",
              "      gap: 12px;\n",
              "    }\n",
              "\n",
              "    .colab-df-convert {\n",
              "      background-color: #E8F0FE;\n",
              "      border: none;\n",
              "      border-radius: 50%;\n",
              "      cursor: pointer;\n",
              "      display: none;\n",
              "      fill: #1967D2;\n",
              "      height: 32px;\n",
              "      padding: 0 0 0 0;\n",
              "      width: 32px;\n",
              "    }\n",
              "\n",
              "    .colab-df-convert:hover {\n",
              "      background-color: #E2EBFA;\n",
              "      box-shadow: 0px 1px 2px rgba(60, 64, 67, 0.3), 0px 1px 3px 1px rgba(60, 64, 67, 0.15);\n",
              "      fill: #174EA6;\n",
              "    }\n",
              "\n",
              "    [theme=dark] .colab-df-convert {\n",
              "      background-color: #3B4455;\n",
              "      fill: #D2E3FC;\n",
              "    }\n",
              "\n",
              "    [theme=dark] .colab-df-convert:hover {\n",
              "      background-color: #434B5C;\n",
              "      box-shadow: 0px 1px 3px 1px rgba(0, 0, 0, 0.15);\n",
              "      filter: drop-shadow(0px 1px 2px rgba(0, 0, 0, 0.3));\n",
              "      fill: #FFFFFF;\n",
              "    }\n",
              "  </style>\n",
              "\n",
              "      <script>\n",
              "        const buttonEl =\n",
              "          document.querySelector('#df-515ad51f-eec6-4499-aa15-66d797ec5734 button.colab-df-convert');\n",
              "        buttonEl.style.display =\n",
              "          google.colab.kernel.accessAllowed ? 'block' : 'none';\n",
              "\n",
              "        async function convertToInteractive(key) {\n",
              "          const element = document.querySelector('#df-515ad51f-eec6-4499-aa15-66d797ec5734');\n",
              "          const dataTable =\n",
              "            await google.colab.kernel.invokeFunction('convertToInteractive',\n",
              "                                                     [key], {});\n",
              "          if (!dataTable) return;\n",
              "\n",
              "          const docLinkHtml = 'Like what you see? Visit the ' +\n",
              "            '<a target=\"_blank\" href=https://colab.research.google.com/notebooks/data_table.ipynb>data table notebook</a>'\n",
              "            + ' to learn more about interactive tables.';\n",
              "          element.innerHTML = '';\n",
              "          dataTable['output_type'] = 'display_data';\n",
              "          await google.colab.output.renderOutput(dataTable, element);\n",
              "          const docLink = document.createElement('div');\n",
              "          docLink.innerHTML = docLinkHtml;\n",
              "          element.appendChild(docLink);\n",
              "        }\n",
              "      </script>\n",
              "    </div>\n",
              "  </div>\n",
              "  "
            ]
          },
          "metadata": {},
          "execution_count": 4
        }
      ]
    },
    {
      "cell_type": "code",
      "source": [
        "df.tail()"
      ],
      "metadata": {
        "colab": {
          "base_uri": "https://localhost:8080/",
          "height": 238
        },
        "id": "O4sA_kGoGJHg",
        "outputId": "cb1ada5c-41aa-4002-8460-49c88dae020f"
      },
      "execution_count": 5,
      "outputs": [
        {
          "output_type": "execute_result",
          "data": {
            "text/plain": [
              "                   Open         High          Low        Close    Adj Close  \\\n",
              "Date                                                                          \n",
              "2022-02-22  2352.899902  2395.899902  2347.149902  2389.000000  2389.000000   \n",
              "2022-02-23  2401.100098  2406.550049  2368.000000  2374.050049  2374.050049   \n",
              "2022-02-24  2305.000000  2339.899902  2243.399902  2255.750000  2255.750000   \n",
              "2022-02-25  2280.100098  2307.949951  2276.250000  2283.949951  2283.949951   \n",
              "2022-02-28  2243.000000  2367.350098  2243.000000  2359.550049  2359.550049   \n",
              "\n",
              "              Volume  \n",
              "Date                  \n",
              "2022-02-22   6227901  \n",
              "2022-02-23   3373615  \n",
              "2022-02-24  11466725  \n",
              "2022-02-25   6724094  \n",
              "2022-02-28   9828768  "
            ],
            "text/html": [
              "\n",
              "  <div id=\"df-bbe5851f-ac01-41a0-a681-972286da07f7\">\n",
              "    <div class=\"colab-df-container\">\n",
              "      <div>\n",
              "<style scoped>\n",
              "    .dataframe tbody tr th:only-of-type {\n",
              "        vertical-align: middle;\n",
              "    }\n",
              "\n",
              "    .dataframe tbody tr th {\n",
              "        vertical-align: top;\n",
              "    }\n",
              "\n",
              "    .dataframe thead th {\n",
              "        text-align: right;\n",
              "    }\n",
              "</style>\n",
              "<table border=\"1\" class=\"dataframe\">\n",
              "  <thead>\n",
              "    <tr style=\"text-align: right;\">\n",
              "      <th></th>\n",
              "      <th>Open</th>\n",
              "      <th>High</th>\n",
              "      <th>Low</th>\n",
              "      <th>Close</th>\n",
              "      <th>Adj Close</th>\n",
              "      <th>Volume</th>\n",
              "    </tr>\n",
              "    <tr>\n",
              "      <th>Date</th>\n",
              "      <th></th>\n",
              "      <th></th>\n",
              "      <th></th>\n",
              "      <th></th>\n",
              "      <th></th>\n",
              "      <th></th>\n",
              "    </tr>\n",
              "  </thead>\n",
              "  <tbody>\n",
              "    <tr>\n",
              "      <th>2022-02-22</th>\n",
              "      <td>2352.899902</td>\n",
              "      <td>2395.899902</td>\n",
              "      <td>2347.149902</td>\n",
              "      <td>2389.000000</td>\n",
              "      <td>2389.000000</td>\n",
              "      <td>6227901</td>\n",
              "    </tr>\n",
              "    <tr>\n",
              "      <th>2022-02-23</th>\n",
              "      <td>2401.100098</td>\n",
              "      <td>2406.550049</td>\n",
              "      <td>2368.000000</td>\n",
              "      <td>2374.050049</td>\n",
              "      <td>2374.050049</td>\n",
              "      <td>3373615</td>\n",
              "    </tr>\n",
              "    <tr>\n",
              "      <th>2022-02-24</th>\n",
              "      <td>2305.000000</td>\n",
              "      <td>2339.899902</td>\n",
              "      <td>2243.399902</td>\n",
              "      <td>2255.750000</td>\n",
              "      <td>2255.750000</td>\n",
              "      <td>11466725</td>\n",
              "    </tr>\n",
              "    <tr>\n",
              "      <th>2022-02-25</th>\n",
              "      <td>2280.100098</td>\n",
              "      <td>2307.949951</td>\n",
              "      <td>2276.250000</td>\n",
              "      <td>2283.949951</td>\n",
              "      <td>2283.949951</td>\n",
              "      <td>6724094</td>\n",
              "    </tr>\n",
              "    <tr>\n",
              "      <th>2022-02-28</th>\n",
              "      <td>2243.000000</td>\n",
              "      <td>2367.350098</td>\n",
              "      <td>2243.000000</td>\n",
              "      <td>2359.550049</td>\n",
              "      <td>2359.550049</td>\n",
              "      <td>9828768</td>\n",
              "    </tr>\n",
              "  </tbody>\n",
              "</table>\n",
              "</div>\n",
              "      <button class=\"colab-df-convert\" onclick=\"convertToInteractive('df-bbe5851f-ac01-41a0-a681-972286da07f7')\"\n",
              "              title=\"Convert this dataframe to an interactive table.\"\n",
              "              style=\"display:none;\">\n",
              "        \n",
              "  <svg xmlns=\"http://www.w3.org/2000/svg\" height=\"24px\"viewBox=\"0 0 24 24\"\n",
              "       width=\"24px\">\n",
              "    <path d=\"M0 0h24v24H0V0z\" fill=\"none\"/>\n",
              "    <path d=\"M18.56 5.44l.94 2.06.94-2.06 2.06-.94-2.06-.94-.94-2.06-.94 2.06-2.06.94zm-11 1L8.5 8.5l.94-2.06 2.06-.94-2.06-.94L8.5 2.5l-.94 2.06-2.06.94zm10 10l.94 2.06.94-2.06 2.06-.94-2.06-.94-.94-2.06-.94 2.06-2.06.94z\"/><path d=\"M17.41 7.96l-1.37-1.37c-.4-.4-.92-.59-1.43-.59-.52 0-1.04.2-1.43.59L10.3 9.45l-7.72 7.72c-.78.78-.78 2.05 0 2.83L4 21.41c.39.39.9.59 1.41.59.51 0 1.02-.2 1.41-.59l7.78-7.78 2.81-2.81c.8-.78.8-2.07 0-2.86zM5.41 20L4 18.59l7.72-7.72 1.47 1.35L5.41 20z\"/>\n",
              "  </svg>\n",
              "      </button>\n",
              "      \n",
              "  <style>\n",
              "    .colab-df-container {\n",
              "      display:flex;\n",
              "      flex-wrap:wrap;\n",
              "      gap: 12px;\n",
              "    }\n",
              "\n",
              "    .colab-df-convert {\n",
              "      background-color: #E8F0FE;\n",
              "      border: none;\n",
              "      border-radius: 50%;\n",
              "      cursor: pointer;\n",
              "      display: none;\n",
              "      fill: #1967D2;\n",
              "      height: 32px;\n",
              "      padding: 0 0 0 0;\n",
              "      width: 32px;\n",
              "    }\n",
              "\n",
              "    .colab-df-convert:hover {\n",
              "      background-color: #E2EBFA;\n",
              "      box-shadow: 0px 1px 2px rgba(60, 64, 67, 0.3), 0px 1px 3px 1px rgba(60, 64, 67, 0.15);\n",
              "      fill: #174EA6;\n",
              "    }\n",
              "\n",
              "    [theme=dark] .colab-df-convert {\n",
              "      background-color: #3B4455;\n",
              "      fill: #D2E3FC;\n",
              "    }\n",
              "\n",
              "    [theme=dark] .colab-df-convert:hover {\n",
              "      background-color: #434B5C;\n",
              "      box-shadow: 0px 1px 3px 1px rgba(0, 0, 0, 0.15);\n",
              "      filter: drop-shadow(0px 1px 2px rgba(0, 0, 0, 0.3));\n",
              "      fill: #FFFFFF;\n",
              "    }\n",
              "  </style>\n",
              "\n",
              "      <script>\n",
              "        const buttonEl =\n",
              "          document.querySelector('#df-bbe5851f-ac01-41a0-a681-972286da07f7 button.colab-df-convert');\n",
              "        buttonEl.style.display =\n",
              "          google.colab.kernel.accessAllowed ? 'block' : 'none';\n",
              "\n",
              "        async function convertToInteractive(key) {\n",
              "          const element = document.querySelector('#df-bbe5851f-ac01-41a0-a681-972286da07f7');\n",
              "          const dataTable =\n",
              "            await google.colab.kernel.invokeFunction('convertToInteractive',\n",
              "                                                     [key], {});\n",
              "          if (!dataTable) return;\n",
              "\n",
              "          const docLinkHtml = 'Like what you see? Visit the ' +\n",
              "            '<a target=\"_blank\" href=https://colab.research.google.com/notebooks/data_table.ipynb>data table notebook</a>'\n",
              "            + ' to learn more about interactive tables.';\n",
              "          element.innerHTML = '';\n",
              "          dataTable['output_type'] = 'display_data';\n",
              "          await google.colab.output.renderOutput(dataTable, element);\n",
              "          const docLink = document.createElement('div');\n",
              "          docLink.innerHTML = docLinkHtml;\n",
              "          element.appendChild(docLink);\n",
              "        }\n",
              "      </script>\n",
              "    </div>\n",
              "  </div>\n",
              "  "
            ]
          },
          "metadata": {},
          "execution_count": 5
        }
      ]
    },
    {
      "cell_type": "code",
      "source": [
        "df_plot = df.copy()\n",
        "df_plot = df_plot.reset_index()  # reset index from dates to row numbers\n",
        "df_plot.drop([\"Date\"],axis=1)"
      ],
      "metadata": {
        "colab": {
          "base_uri": "https://localhost:8080/",
          "height": 424
        },
        "id": "qKKxew1YGLdW",
        "outputId": "40c8be79-dad9-43d6-e980-c027d7ce180c"
      },
      "execution_count": 6,
      "outputs": [
        {
          "output_type": "execute_result",
          "data": {
            "text/plain": [
              "            Open         High          Low        Close    Adj Close    Volume\n",
              "0    1374.966675  1380.712280  1356.145142  1373.233154  1363.709229  11562875\n",
              "1    1342.177490  1344.257812  1312.558228  1316.173950  1307.045776  18144221\n",
              "2    1342.375610  1356.145142  1288.882690  1303.791382  1294.749023  13614473\n",
              "3    1317.214111  1341.186890  1309.586426  1330.240601  1321.014893  12644541\n",
              "4    1339.304688  1341.087769  1295.618774  1327.120239  1317.916016  10201574\n",
              "..           ...          ...          ...          ...          ...       ...\n",
              "494  2352.899902  2395.899902  2347.149902  2389.000000  2389.000000   6227901\n",
              "495  2401.100098  2406.550049  2368.000000  2374.050049  2374.050049   3373615\n",
              "496  2305.000000  2339.899902  2243.399902  2255.750000  2255.750000  11466725\n",
              "497  2280.100098  2307.949951  2276.250000  2283.949951  2283.949951   6724094\n",
              "498  2243.000000  2367.350098  2243.000000  2359.550049  2359.550049   9828768\n",
              "\n",
              "[499 rows x 6 columns]"
            ],
            "text/html": [
              "\n",
              "  <div id=\"df-2f5b9195-823c-4491-a7fa-86404dec1b15\">\n",
              "    <div class=\"colab-df-container\">\n",
              "      <div>\n",
              "<style scoped>\n",
              "    .dataframe tbody tr th:only-of-type {\n",
              "        vertical-align: middle;\n",
              "    }\n",
              "\n",
              "    .dataframe tbody tr th {\n",
              "        vertical-align: top;\n",
              "    }\n",
              "\n",
              "    .dataframe thead th {\n",
              "        text-align: right;\n",
              "    }\n",
              "</style>\n",
              "<table border=\"1\" class=\"dataframe\">\n",
              "  <thead>\n",
              "    <tr style=\"text-align: right;\">\n",
              "      <th></th>\n",
              "      <th>Open</th>\n",
              "      <th>High</th>\n",
              "      <th>Low</th>\n",
              "      <th>Close</th>\n",
              "      <th>Adj Close</th>\n",
              "      <th>Volume</th>\n",
              "    </tr>\n",
              "  </thead>\n",
              "  <tbody>\n",
              "    <tr>\n",
              "      <th>0</th>\n",
              "      <td>1374.966675</td>\n",
              "      <td>1380.712280</td>\n",
              "      <td>1356.145142</td>\n",
              "      <td>1373.233154</td>\n",
              "      <td>1363.709229</td>\n",
              "      <td>11562875</td>\n",
              "    </tr>\n",
              "    <tr>\n",
              "      <th>1</th>\n",
              "      <td>1342.177490</td>\n",
              "      <td>1344.257812</td>\n",
              "      <td>1312.558228</td>\n",
              "      <td>1316.173950</td>\n",
              "      <td>1307.045776</td>\n",
              "      <td>18144221</td>\n",
              "    </tr>\n",
              "    <tr>\n",
              "      <th>2</th>\n",
              "      <td>1342.375610</td>\n",
              "      <td>1356.145142</td>\n",
              "      <td>1288.882690</td>\n",
              "      <td>1303.791382</td>\n",
              "      <td>1294.749023</td>\n",
              "      <td>13614473</td>\n",
              "    </tr>\n",
              "    <tr>\n",
              "      <th>3</th>\n",
              "      <td>1317.214111</td>\n",
              "      <td>1341.186890</td>\n",
              "      <td>1309.586426</td>\n",
              "      <td>1330.240601</td>\n",
              "      <td>1321.014893</td>\n",
              "      <td>12644541</td>\n",
              "    </tr>\n",
              "    <tr>\n",
              "      <th>4</th>\n",
              "      <td>1339.304688</td>\n",
              "      <td>1341.087769</td>\n",
              "      <td>1295.618774</td>\n",
              "      <td>1327.120239</td>\n",
              "      <td>1317.916016</td>\n",
              "      <td>10201574</td>\n",
              "    </tr>\n",
              "    <tr>\n",
              "      <th>...</th>\n",
              "      <td>...</td>\n",
              "      <td>...</td>\n",
              "      <td>...</td>\n",
              "      <td>...</td>\n",
              "      <td>...</td>\n",
              "      <td>...</td>\n",
              "    </tr>\n",
              "    <tr>\n",
              "      <th>494</th>\n",
              "      <td>2352.899902</td>\n",
              "      <td>2395.899902</td>\n",
              "      <td>2347.149902</td>\n",
              "      <td>2389.000000</td>\n",
              "      <td>2389.000000</td>\n",
              "      <td>6227901</td>\n",
              "    </tr>\n",
              "    <tr>\n",
              "      <th>495</th>\n",
              "      <td>2401.100098</td>\n",
              "      <td>2406.550049</td>\n",
              "      <td>2368.000000</td>\n",
              "      <td>2374.050049</td>\n",
              "      <td>2374.050049</td>\n",
              "      <td>3373615</td>\n",
              "    </tr>\n",
              "    <tr>\n",
              "      <th>496</th>\n",
              "      <td>2305.000000</td>\n",
              "      <td>2339.899902</td>\n",
              "      <td>2243.399902</td>\n",
              "      <td>2255.750000</td>\n",
              "      <td>2255.750000</td>\n",
              "      <td>11466725</td>\n",
              "    </tr>\n",
              "    <tr>\n",
              "      <th>497</th>\n",
              "      <td>2280.100098</td>\n",
              "      <td>2307.949951</td>\n",
              "      <td>2276.250000</td>\n",
              "      <td>2283.949951</td>\n",
              "      <td>2283.949951</td>\n",
              "      <td>6724094</td>\n",
              "    </tr>\n",
              "    <tr>\n",
              "      <th>498</th>\n",
              "      <td>2243.000000</td>\n",
              "      <td>2367.350098</td>\n",
              "      <td>2243.000000</td>\n",
              "      <td>2359.550049</td>\n",
              "      <td>2359.550049</td>\n",
              "      <td>9828768</td>\n",
              "    </tr>\n",
              "  </tbody>\n",
              "</table>\n",
              "<p>499 rows × 6 columns</p>\n",
              "</div>\n",
              "      <button class=\"colab-df-convert\" onclick=\"convertToInteractive('df-2f5b9195-823c-4491-a7fa-86404dec1b15')\"\n",
              "              title=\"Convert this dataframe to an interactive table.\"\n",
              "              style=\"display:none;\">\n",
              "        \n",
              "  <svg xmlns=\"http://www.w3.org/2000/svg\" height=\"24px\"viewBox=\"0 0 24 24\"\n",
              "       width=\"24px\">\n",
              "    <path d=\"M0 0h24v24H0V0z\" fill=\"none\"/>\n",
              "    <path d=\"M18.56 5.44l.94 2.06.94-2.06 2.06-.94-2.06-.94-.94-2.06-.94 2.06-2.06.94zm-11 1L8.5 8.5l.94-2.06 2.06-.94-2.06-.94L8.5 2.5l-.94 2.06-2.06.94zm10 10l.94 2.06.94-2.06 2.06-.94-2.06-.94-.94-2.06-.94 2.06-2.06.94z\"/><path d=\"M17.41 7.96l-1.37-1.37c-.4-.4-.92-.59-1.43-.59-.52 0-1.04.2-1.43.59L10.3 9.45l-7.72 7.72c-.78.78-.78 2.05 0 2.83L4 21.41c.39.39.9.59 1.41.59.51 0 1.02-.2 1.41-.59l7.78-7.78 2.81-2.81c.8-.78.8-2.07 0-2.86zM5.41 20L4 18.59l7.72-7.72 1.47 1.35L5.41 20z\"/>\n",
              "  </svg>\n",
              "      </button>\n",
              "      \n",
              "  <style>\n",
              "    .colab-df-container {\n",
              "      display:flex;\n",
              "      flex-wrap:wrap;\n",
              "      gap: 12px;\n",
              "    }\n",
              "\n",
              "    .colab-df-convert {\n",
              "      background-color: #E8F0FE;\n",
              "      border: none;\n",
              "      border-radius: 50%;\n",
              "      cursor: pointer;\n",
              "      display: none;\n",
              "      fill: #1967D2;\n",
              "      height: 32px;\n",
              "      padding: 0 0 0 0;\n",
              "      width: 32px;\n",
              "    }\n",
              "\n",
              "    .colab-df-convert:hover {\n",
              "      background-color: #E2EBFA;\n",
              "      box-shadow: 0px 1px 2px rgba(60, 64, 67, 0.3), 0px 1px 3px 1px rgba(60, 64, 67, 0.15);\n",
              "      fill: #174EA6;\n",
              "    }\n",
              "\n",
              "    [theme=dark] .colab-df-convert {\n",
              "      background-color: #3B4455;\n",
              "      fill: #D2E3FC;\n",
              "    }\n",
              "\n",
              "    [theme=dark] .colab-df-convert:hover {\n",
              "      background-color: #434B5C;\n",
              "      box-shadow: 0px 1px 3px 1px rgba(0, 0, 0, 0.15);\n",
              "      filter: drop-shadow(0px 1px 2px rgba(0, 0, 0, 0.3));\n",
              "      fill: #FFFFFF;\n",
              "    }\n",
              "  </style>\n",
              "\n",
              "      <script>\n",
              "        const buttonEl =\n",
              "          document.querySelector('#df-2f5b9195-823c-4491-a7fa-86404dec1b15 button.colab-df-convert');\n",
              "        buttonEl.style.display =\n",
              "          google.colab.kernel.accessAllowed ? 'block' : 'none';\n",
              "\n",
              "        async function convertToInteractive(key) {\n",
              "          const element = document.querySelector('#df-2f5b9195-823c-4491-a7fa-86404dec1b15');\n",
              "          const dataTable =\n",
              "            await google.colab.kernel.invokeFunction('convertToInteractive',\n",
              "                                                     [key], {});\n",
              "          if (!dataTable) return;\n",
              "\n",
              "          const docLinkHtml = 'Like what you see? Visit the ' +\n",
              "            '<a target=\"_blank\" href=https://colab.research.google.com/notebooks/data_table.ipynb>data table notebook</a>'\n",
              "            + ' to learn more about interactive tables.';\n",
              "          element.innerHTML = '';\n",
              "          dataTable['output_type'] = 'display_data';\n",
              "          await google.colab.output.renderOutput(dataTable, element);\n",
              "          const docLink = document.createElement('div');\n",
              "          docLink.innerHTML = docLinkHtml;\n",
              "          element.appendChild(docLink);\n",
              "        }\n",
              "      </script>\n",
              "    </div>\n",
              "  </div>\n",
              "  "
            ]
          },
          "metadata": {},
          "execution_count": 6
        }
      ]
    },
    {
      "cell_type": "code",
      "source": [
        "plt.figure(figsize=(14,7))\n",
        "plt.plot(df_plot.Close)\n"
      ],
      "metadata": {
        "colab": {
          "base_uri": "https://localhost:8080/",
          "height": 445
        },
        "id": "SqK2bOh2GRMR",
        "outputId": "6eb5f282-b05a-4143-97eb-6bff1700e897"
      },
      "execution_count": 7,
      "outputs": [
        {
          "output_type": "execute_result",
          "data": {
            "text/plain": [
              "[<matplotlib.lines.Line2D at 0x7f4a09614850>]"
            ]
          },
          "metadata": {},
          "execution_count": 7
        },
        {
          "output_type": "display_data",
          "data": {
            "text/plain": [
              "<Figure size 1008x504 with 1 Axes>"
            ],
            "image/png": "[encoded data removed]"
          },
          "metadata": {
            "needs_background": "light"
          }
        }
      ]
    },
    {
      "cell_type": "markdown",
      "source": [
        "**Rolling Averages**"
      ],
      "metadata": {
        "id": "MqGp-ekTJm_t"
      }
    },
    {
      "cell_type": "code",
      "source": [
        "MA100 = df_plot.Close.rolling(100).mean()\n",
        "MA50 = df_plot.Close.rolling(50).mean()"
      ],
      "metadata": {
        "id": "masEhnk6GWmB"
      },
      "execution_count": 8,
      "outputs": []
    },
    {
      "cell_type": "code",
      "source": [
        "plt.figure(figsize=(12,6))\n",
        "plt.plot(df_plot.Close)\n",
        "plt.plot(MA100, 'r')\n",
        "plt.plot(MA50, 'g')"
      ],
      "metadata": {
        "colab": {
          "base_uri": "https://localhost:8080/",
          "height": 391
        },
        "id": "55T_F_cnGbw_",
        "outputId": "e24b346e-2f73-4df8-915b-bae634b6a129"
      },
      "execution_count": 9,
      "outputs": [
        {
          "output_type": "execute_result",
          "data": {
            "text/plain": [
              "[<matplotlib.lines.Line2D at 0x7f4a09071d10>]"
            ]
          },
          "metadata": {},
          "execution_count": 9
        },
        {
          "output_type": "display_data",
          "data": {
            "text/plain": [
              "<Figure size 864x432 with 1 Axes>"
            ],
            "image/png": "[encoded data removed]"
          },
          "metadata": {
            "needs_background": "light"
          }
        }
      ]
    },
    {
      "cell_type": "markdown",
      "source": [
        "###**3. Data Preprocessing**"
      ],
      "metadata": {
        "id": "etMxmVUXJ7ui"
      }
    },
    {
      "cell_type": "code",
      "source": [
        "train_df = df.sort_values(by=['Date']).copy()\n",
        "\n",
        "date_index = train_df.index\n",
        "# print(date_index)\n",
        "train_df = train_df.reset_index(drop=True).copy()\n",
        "\n",
        "FEATURES = ['High', 'Low', 'Open', 'Close', 'Volume']\n",
        "\n",
        "data = pd.DataFrame(train_df)\n",
        "data_filtered = data[FEATURES]\n",
        "\n",
        "data_filtered_ext = data_filtered.copy()\n",
        "data_filtered_ext['Prediction'] = data_filtered_ext['Close']\n",
        "\n",
        "data_filtered_ext.tail()"
      ],
      "metadata": {
        "colab": {
          "base_uri": "https://localhost:8080/",
          "height": 206
        },
        "id": "D-2mWgC9Ggv_",
        "outputId": "1eb03e33-6fff-4f1f-d7b7-72d835cb3e3e"
      },
      "execution_count": 10,
      "outputs": [
        {
          "output_type": "execute_result",
          "data": {
            "text/plain": [
              "            High          Low         Open        Close    Volume   Prediction\n",
              "494  2395.899902  2347.149902  2352.899902  2389.000000   6227901  2389.000000\n",
              "495  2406.550049  2368.000000  2401.100098  2374.050049   3373615  2374.050049\n",
              "496  2339.899902  2243.399902  2305.000000  2255.750000  11466725  2255.750000\n",
              "497  2307.949951  2276.250000  2280.100098  2283.949951   6724094  2283.949951\n",
              "498  2367.350098  2243.000000  2243.000000  2359.550049   9828768  2359.550049"
            ],
            "text/html": [
              "\n",
              "  <div id=\"df-2c502920-9fca-45ce-85b0-47f27910de0e\">\n",
              "    <div class=\"colab-df-container\">\n",
              "      <div>\n",
              "<style scoped>\n",
              "    .dataframe tbody tr th:only-of-type {\n",
              "        vertical-align: middle;\n",
              "    }\n",
              "\n",
              "    .dataframe tbody tr th {\n",
              "        vertical-align: top;\n",
              "    }\n",
              "\n",
              "    .dataframe thead th {\n",
              "        text-align: right;\n",
              "    }\n",
              "</style>\n",
              "<table border=\"1\" class=\"dataframe\">\n",
              "  <thead>\n",
              "    <tr style=\"text-align: right;\">\n",
              "      <th></th>\n",
              "      <th>High</th>\n",
              "      <th>Low</th>\n",
              "      <th>Open</th>\n",
              "      <th>Close</th>\n",
              "      <th>Volume</th>\n",
              "      <th>Prediction</th>\n",
              "    </tr>\n",
              "  </thead>\n",
              "  <tbody>\n",
              "    <tr>\n",
              "      <th>494</th>\n",
              "      <td>2395.899902</td>\n",
              "      <td>2347.149902</td>\n",
              "      <td>2352.899902</td>\n",
              "      <td>2389.000000</td>\n",
              "      <td>6227901</td>\n",
              "      <td>2389.000000</td>\n",
              "    </tr>\n",
              "    <tr>\n",
              "      <th>495</th>\n",
              "      <td>2406.550049</td>\n",
              "      <td>2368.000000</td>\n",
              "      <td>2401.100098</td>\n",
              "      <td>2374.050049</td>\n",
              "      <td>3373615</td>\n",
              "      <td>2374.050049</td>\n",
              "    </tr>\n",
              "    <tr>\n",
              "      <th>496</th>\n",
              "      <td>2339.899902</td>\n",
              "      <td>2243.399902</td>\n",
              "      <td>2305.000000</td>\n",
              "      <td>2255.750000</td>\n",
              "      <td>11466725</td>\n",
              "      <td>2255.750000</td>\n",
              "    </tr>\n",
              "    <tr>\n",
              "      <th>497</th>\n",
              "      <td>2307.949951</td>\n",
              "      <td>2276.250000</td>\n",
              "      <td>2280.100098</td>\n",
              "      <td>2283.949951</td>\n",
              "      <td>6724094</td>\n",
              "      <td>2283.949951</td>\n",
              "    </tr>\n",
              "    <tr>\n",
              "      <th>498</th>\n",
              "      <td>2367.350098</td>\n",
              "      <td>2243.000000</td>\n",
              "      <td>2243.000000</td>\n",
              "      <td>2359.550049</td>\n",
              "      <td>9828768</td>\n",
              "      <td>2359.550049</td>\n",
              "    </tr>\n",
              "  </tbody>\n",
              "</table>\n",
              "</div>\n",
              "      <button class=\"colab-df-convert\" onclick=\"convertToInteractive('df-2c502920-9fca-45ce-85b0-47f27910de0e')\"\n",
              "              title=\"Convert this dataframe to an interactive table.\"\n",
              "              style=\"display:none;\">\n",
              "        \n",
              "  <svg xmlns=\"http://www.w3.org/2000/svg\" height=\"24px\"viewBox=\"0 0 24 24\"\n",
              "       width=\"24px\">\n",
              "    <path d=\"M0 0h24v24H0V0z\" fill=\"none\"/>\n",
              "    <path d=\"M18.56 5.44l.94 2.06.94-2.06 2.06-.94-2.06-.94-.94-2.06-.94 2.06-2.06.94zm-11 1L8.5 8.5l.94-2.06 2.06-.94-2.06-.94L8.5 2.5l-.94 2.06-2.06.94zm10 10l.94 2.06.94-2.06 2.06-.94-2.06-.94-.94-2.06-.94 2.06-2.06.94z\"/><path d=\"M17.41 7.96l-1.37-1.37c-.4-.4-.92-.59-1.43-.59-.52 0-1.04.2-1.43.59L10.3 9.45l-7.72 7.72c-.78.78-.78 2.05 0 2.83L4 21.41c.39.39.9.59 1.41.59.51 0 1.02-.2 1.41-.59l7.78-7.78 2.81-2.81c.8-.78.8-2.07 0-2.86zM5.41 20L4 18.59l7.72-7.72 1.47 1.35L5.41 20z\"/>\n",
              "  </svg>\n",
              "      </button>\n",
              "      \n",
              "  <style>\n",
              "    .colab-df-container {\n",
              "      display:flex;\n",
              "      flex-wrap:wrap;\n",
              "      gap: 12px;\n",
              "    }\n",
              "\n",
              "    .colab-df-convert {\n",
              "      background-color: #E8F0FE;\n",
              "      border: none;\n",
              "      border-radius: 50%;\n",
              "      cursor: pointer;\n",
              "      display: none;\n",
              "      fill: #1967D2;\n",
              "      height: 32px;\n",
              "      padding: 0 0 0 0;\n",
              "      width: 32px;\n",
              "    }\n",
              "\n",
              "    .colab-df-convert:hover {\n",
              "      background-color: #E2EBFA;\n",
              "      box-shadow: 0px 1px 2px rgba(60, 64, 67, 0.3), 0px 1px 3px 1px rgba(60, 64, 67, 0.15);\n",
              "      fill: #174EA6;\n",
              "    }\n",
              "\n",
              "    [theme=dark] .colab-df-convert {\n",
              "      background-color: #3B4455;\n",
              "      fill: #D2E3FC;\n",
              "    }\n",
              "\n",
              "    [theme=dark] .colab-df-convert:hover {\n",
              "      background-color: #434B5C;\n",
              "      box-shadow: 0px 1px 3px 1px rgba(0, 0, 0, 0.15);\n",
              "      filter: drop-shadow(0px 1px 2px rgba(0, 0, 0, 0.3));\n",
              "      fill: #FFFFFF;\n",
              "    }\n",
              "  </style>\n",
              "\n",
              "      <script>\n",
              "        const buttonEl =\n",
              "          document.querySelector('#df-2c502920-9fca-45ce-85b0-47f27910de0e button.colab-df-convert');\n",
              "        buttonEl.style.display =\n",
              "          google.colab.kernel.accessAllowed ? 'block' : 'none';\n",
              "\n",
              "        async function convertToInteractive(key) {\n",
              "          const element = document.querySelector('#df-2c502920-9fca-45ce-85b0-47f27910de0e');\n",
              "          const dataTable =\n",
              "            await google.colab.kernel.invokeFunction('convertToInteractive',\n",
              "                                                     [key], {});\n",
              "          if (!dataTable) return;\n",
              "\n",
              "          const docLinkHtml = 'Like what you see? Visit the ' +\n",
              "            '<a target=\"_blank\" href=https://colab.research.google.com/notebooks/data_table.ipynb>data table notebook</a>'\n",
              "            + ' to learn more about interactive tables.';\n",
              "          element.innerHTML = '';\n",
              "          dataTable['output_type'] = 'display_data';\n",
              "          await google.colab.output.renderOutput(dataTable, element);\n",
              "          const docLink = document.createElement('div');\n",
              "          docLink.innerHTML = docLinkHtml;\n",
              "          element.appendChild(docLink);\n",
              "        }\n",
              "      </script>\n",
              "    </div>\n",
              "  </div>\n",
              "  "
            ]
          },
          "metadata": {},
          "execution_count": 10
        }
      ]
    },
    {
      "cell_type": "code",
      "source": [
        "train_df.head()"
      ],
      "metadata": {
        "colab": {
          "base_uri": "https://localhost:8080/",
          "height": 206
        },
        "id": "bSUpcgc5GlNZ",
        "outputId": "70ab2aae-ffee-4cff-a872-430479fd3fa3"
      },
      "execution_count": 11,
      "outputs": [
        {
          "output_type": "execute_result",
          "data": {
            "text/plain": [
              "          Open         High          Low        Close    Adj Close    Volume\n",
              "0  1374.966675  1380.712280  1356.145142  1373.233154  1363.709229  11562875\n",
              "1  1342.177490  1344.257812  1312.558228  1316.173950  1307.045776  18144221\n",
              "2  1342.375610  1356.145142  1288.882690  1303.791382  1294.749023  13614473\n",
              "3  1317.214111  1341.186890  1309.586426  1330.240601  1321.014893  12644541\n",
              "4  1339.304688  1341.087769  1295.618774  1327.120239  1317.916016  10201574"
            ],
            "text/html": [
              "\n",
              "  <div id=\"df-ae0f2ce7-77e0-4ea9-8305-f59ecea3e4ef\">\n",
              "    <div class=\"colab-df-container\">\n",
              "      <div>\n",
              "<style scoped>\n",
              "    .dataframe tbody tr th:only-of-type {\n",
              "        vertical-align: middle;\n",
              "    }\n",
              "\n",
              "    .dataframe tbody tr th {\n",
              "        vertical-align: top;\n",
              "    }\n",
              "\n",
              "    .dataframe thead th {\n",
              "        text-align: right;\n",
              "    }\n",
              "</style>\n",
              "<table border=\"1\" class=\"dataframe\">\n",
              "  <thead>\n",
              "    <tr style=\"text-align: right;\">\n",
              "      <th></th>\n",
              "      <th>Open</th>\n",
              "      <th>High</th>\n",
              "      <th>Low</th>\n",
              "      <th>Close</th>\n",
              "      <th>Adj Close</th>\n",
              "      <th>Volume</th>\n",
              "    </tr>\n",
              "  </thead>\n",
              "  <tbody>\n",
              "    <tr>\n",
              "      <th>0</th>\n",
              "      <td>1374.966675</td>\n",
              "      <td>1380.712280</td>\n",
              "      <td>1356.145142</td>\n",
              "      <td>1373.233154</td>\n",
              "      <td>1363.709229</td>\n",
              "      <td>11562875</td>\n",
              "    </tr>\n",
              "    <tr>\n",
              "      <th>1</th>\n",
              "      <td>1342.177490</td>\n",
              "      <td>1344.257812</td>\n",
              "      <td>1312.558228</td>\n",
              "      <td>1316.173950</td>\n",
              "      <td>1307.045776</td>\n",
              "      <td>18144221</td>\n",
              "    </tr>\n",
              "    <tr>\n",
              "      <th>2</th>\n",
              "      <td>1342.375610</td>\n",
              "      <td>1356.145142</td>\n",
              "      <td>1288.882690</td>\n",
              "      <td>1303.791382</td>\n",
              "      <td>1294.749023</td>\n",
              "      <td>13614473</td>\n",
              "    </tr>\n",
              "    <tr>\n",
              "      <th>3</th>\n",
              "      <td>1317.214111</td>\n",
              "      <td>1341.186890</td>\n",
              "      <td>1309.586426</td>\n",
              "      <td>1330.240601</td>\n",
              "      <td>1321.014893</td>\n",
              "      <td>12644541</td>\n",
              "    </tr>\n",
              "    <tr>\n",
              "      <th>4</th>\n",
              "      <td>1339.304688</td>\n",
              "      <td>1341.087769</td>\n",
              "      <td>1295.618774</td>\n",
              "      <td>1327.120239</td>\n",
              "      <td>1317.916016</td>\n",
              "      <td>10201574</td>\n",
              "    </tr>\n",
              "  </tbody>\n",
              "</table>\n",
              "</div>\n",
              "      <button class=\"colab-df-convert\" onclick=\"convertToInteractive('df-ae0f2ce7-77e0-4ea9-8305-f59ecea3e4ef')\"\n",
              "              title=\"Convert this dataframe to an interactive table.\"\n",
              "              style=\"display:none;\">\n",
              "        \n",
              "  <svg xmlns=\"http://www.w3.org/2000/svg\" height=\"24px\"viewBox=\"0 0 24 24\"\n",
              "       width=\"24px\">\n",
              "    <path d=\"M0 0h24v24H0V0z\" fill=\"none\"/>\n",
              "    <path d=\"M18.56 5.44l.94 2.06.94-2.06 2.06-.94-2.06-.94-.94-2.06-.94 2.06-2.06.94zm-11 1L8.5 8.5l.94-2.06 2.06-.94-2.06-.94L8.5 2.5l-.94 2.06-2.06.94zm10 10l.94 2.06.94-2.06 2.06-.94-2.06-.94-.94-2.06-.94 2.06-2.06.94z\"/><path d=\"M17.41 7.96l-1.37-1.37c-.4-.4-.92-.59-1.43-.59-.52 0-1.04.2-1.43.59L10.3 9.45l-7.72 7.72c-.78.78-.78 2.05 0 2.83L4 21.41c.39.39.9.59 1.41.59.51 0 1.02-.2 1.41-.59l7.78-7.78 2.81-2.81c.8-.78.8-2.07 0-2.86zM5.41 20L4 18.59l7.72-7.72 1.47 1.35L5.41 20z\"/>\n",
              "  </svg>\n",
              "      </button>\n",
              "      \n",
              "  <style>\n",
              "    .colab-df-container {\n",
              "      display:flex;\n",
              "      flex-wrap:wrap;\n",
              "      gap: 12px;\n",
              "    }\n",
              "\n",
              "    .colab-df-convert {\n",
              "      background-color: #E8F0FE;\n",
              "      border: none;\n",
              "      border-radius: 50%;\n",
              "      cursor: pointer;\n",
              "      display: none;\n",
              "      fill: #1967D2;\n",
              "      height: 32px;\n",
              "      padding: 0 0 0 0;\n",
              "      width: 32px;\n",
              "    }\n",
              "\n",
              "    .colab-df-convert:hover {\n",
              "      background-color: #E2EBFA;\n",
              "      box-shadow: 0px 1px 2px rgba(60, 64, 67, 0.3), 0px 1px 3px 1px rgba(60, 64, 67, 0.15);\n",
              "      fill: #174EA6;\n",
              "    }\n",
              "\n",
              "    [theme=dark] .colab-df-convert {\n",
              "      background-color: #3B4455;\n",
              "      fill: #D2E3FC;\n",
              "    }\n",
              "\n",
              "    [theme=dark] .colab-df-convert:hover {\n",
              "      background-color: #434B5C;\n",
              "      box-shadow: 0px 1px 3px 1px rgba(0, 0, 0, 0.15);\n",
              "      filter: drop-shadow(0px 1px 2px rgba(0, 0, 0, 0.3));\n",
              "      fill: #FFFFFF;\n",
              "    }\n",
              "  </style>\n",
              "\n",
              "      <script>\n",
              "        const buttonEl =\n",
              "          document.querySelector('#df-ae0f2ce7-77e0-4ea9-8305-f59ecea3e4ef button.colab-df-convert');\n",
              "        buttonEl.style.display =\n",
              "          google.colab.kernel.accessAllowed ? 'block' : 'none';\n",
              "\n",
              "        async function convertToInteractive(key) {\n",
              "          const element = document.querySelector('#df-ae0f2ce7-77e0-4ea9-8305-f59ecea3e4ef');\n",
              "          const dataTable =\n",
              "            await google.colab.kernel.invokeFunction('convertToInteractive',\n",
              "                                                     [key], {});\n",
              "          if (!dataTable) return;\n",
              "\n",
              "          const docLinkHtml = 'Like what you see? Visit the ' +\n",
              "            '<a target=\"_blank\" href=https://colab.research.google.com/notebooks/data_table.ipynb>data table notebook</a>'\n",
              "            + ' to learn more about interactive tables.';\n",
              "          element.innerHTML = '';\n",
              "          dataTable['output_type'] = 'display_data';\n",
              "          await google.colab.output.renderOutput(dataTable, element);\n",
              "          const docLink = document.createElement('div');\n",
              "          docLink.innerHTML = docLinkHtml;\n",
              "          element.appendChild(docLink);\n",
              "        }\n",
              "      </script>\n",
              "    </div>\n",
              "  </div>\n",
              "  "
            ]
          },
          "metadata": {},
          "execution_count": 11
        }
      ]
    },
    {
      "cell_type": "code",
      "source": [
        "nrows = data_filtered.shape[0]\n",
        "\n",
        "np_data_unscaled = np.array(data_filtered)\n",
        "# print(\"Before reshaping \", np_data_unscaled.shape)\n",
        "\n",
        "np_data = np.reshape(np_data_unscaled, (nrows, -1))\n",
        "\n",
        "print(np_data.shape)\n",
        "\n",
        "scaler = MinMaxScaler()\n",
        "np_data_scaled = scaler.fit_transform(np_data_unscaled)\n",
        "\n",
        "scaler_pred = MinMaxScaler()\n",
        "df_Close = pd.DataFrame(data_filtered_ext['Close'])\n",
        "np_Close_scaled = scaler_pred.fit_transform(df_Close)\n"
      ],
      "metadata": {
        "colab": {
          "base_uri": "https://localhost:8080/"
        },
        "id": "J76_xBiqGs-i",
        "outputId": "ce340699-9c53-47de-8bc0-a97a6c6999e0"
      },
      "execution_count": 12,
      "outputs": [
        {
          "output_type": "stream",
          "name": "stdout",
          "text": [
            "(499, 5)\n"
          ]
        }
      ]
    },
    {
      "cell_type": "code",
      "source": [
        "sequence_length = 50\n",
        "\n",
        "index_Close = data.columns.get_loc(\"Close\")\n",
        "\n",
        "train_data_len = math.ceil(np_data_scaled.shape[0] * 0.8)\n",
        "\n",
        "train_data = np_data_scaled[0:train_data_len, :]\n",
        "test_data = np_data_scaled[train_data_len - sequence_length:, :]\n",
        "\n",
        "def partition_dataset(sequence_length, data):\n",
        "    x, y = [], []\n",
        "    data_len = data.shape[0]\n",
        "    for i in range(sequence_length, data_len):\n",
        "        x.append(data[i-sequence_length:i,:]) #contains sequence_length values 0-sequence_length * columsn\n",
        "        y.append(data[i, index_Close]) #contains the prediction values for validation,  for single-step prediction\n",
        "    \n",
        "    # Convert the x and y to numpy arrays\n",
        "    x = np.array(x)\n",
        "    y = np.array(y)\n",
        "    return x, y\n",
        "\n",
        "# Generate training data and test data\n",
        "x_train, y_train = partition_dataset(sequence_length, train_data)\n",
        "x_test, y_test = partition_dataset(sequence_length, test_data)\n",
        "\n",
        "# Print the shapes: the result is: (rows, training_sequence, features) (prediction value, )\n",
        "print(x_train.shape, y_train.shape)\n",
        "print(x_test.shape, y_test.shape)\n",
        "\n",
        "# Validate that the prediction value and the input match up\n",
        "# The last close price of the second input sample should equal the first prediction value\n",
        "\n",
        "# print(x_train[1][sequence_length-1][index_Close])\n",
        "# print(y_train[0])"
      ],
      "metadata": {
        "colab": {
          "base_uri": "https://localhost:8080/"
        },
        "id": "VKWM2LjtGvR6",
        "outputId": "94ffac48-1cb5-4f35-abc9-41b14c69488a"
      },
      "execution_count": 13,
      "outputs": [
        {
          "output_type": "stream",
          "name": "stdout",
          "text": [
            "(350, 50, 5) (350,)\n",
            "(99, 50, 5) (99,)\n"
          ]
        }
      ]
    },
    {
      "cell_type": "markdown",
      "source": [
        "### **4. Training** "
      ],
      "metadata": {
        "id": "pSHPFtwPKObL"
      }
    },
    {
      "cell_type": "markdown",
      "source": [
        "**Create Model**"
      ],
      "metadata": {
        "id": "4OCag3QsKd3V"
      }
    },
    {
      "cell_type": "code",
      "source": [
        "# Configure the neural network model\n",
        "model = Sequential()\n",
        "\n",
        "# Model with n_neurons = inputshape Timestamps, each with x_train.shape[2] variables\n",
        "n_neurons = x_train.shape[1] * x_train.shape[2]\n",
        "print(n_neurons, x_train.shape[1], x_train.shape[2])\n",
        "model.add(LSTM(n_neurons, return_sequences=True, input_shape=(x_train.shape[1], x_train.shape[2]))) \n",
        "model.add(LSTM(n_neurons, return_sequences=False))\n",
        "model.add(Dense(5 ,activation='relu'))\n",
        "model.add(Dropout(0.2))\n",
        "model.add(Dense(1))\n",
        "\n"
      ],
      "metadata": {
        "colab": {
          "base_uri": "https://localhost:8080/"
        },
        "id": "IP37l4MhKtsM",
        "outputId": "acbe5859-9f5f-4495-8771-e9ac1dc025e1"
      },
      "execution_count": 25,
      "outputs": [
        {
          "output_type": "stream",
          "name": "stdout",
          "text": [
            "250 50 5\n"
          ]
        }
      ]
    },
    {
      "cell_type": "markdown",
      "source": [
        "**Compile Model**"
      ],
      "metadata": {
        "id": "A4KJJdmKK3eL"
      }
    },
    {
      "cell_type": "code",
      "source": [
        "# Compile the model\n",
        "model.compile(optimizer=tf.keras.optimizers.Adam(learning_rate=0.001), loss='mse')"
      ],
      "metadata": {
        "id": "8xqiblHzG1sf"
      },
      "execution_count": 26,
      "outputs": []
    },
    {
      "cell_type": "markdown",
      "source": [
        "**Summary**"
      ],
      "metadata": {
        "id": "nBQ_7REyK85V"
      }
    },
    {
      "cell_type": "code",
      "source": [
        "model.summary()"
      ],
      "metadata": {
        "colab": {
          "base_uri": "https://localhost:8080/"
        },
        "id": "Q4N91u9KG7AW",
        "outputId": "be039f3e-e4c0-438f-e2e2-f95c912bcaf2"
      },
      "execution_count": 27,
      "outputs": [
        {
          "output_type": "stream",
          "name": "stdout",
          "text": [
            "Model: \"sequential_1\"\n",
            "_________________________________________________________________\n",
            " Layer (type)                Output Shape              Param #   \n",
            "=================================================================\n",
            " lstm_2 (LSTM)               (None, 50, 250)           256000    \n",
            "                                                                 \n",
            " lstm_3 (LSTM)               (None, 250)               501000    \n",
            "                                                                 \n",
            " dense_2 (Dense)             (None, 5)                 1255      \n",
            "                                                                 \n",
            " dropout_1 (Dropout)         (None, 5)                 0         \n",
            "                                                                 \n",
            " dense_3 (Dense)             (None, 1)                 6         \n",
            "                                                                 \n",
            "=================================================================\n",
            "Total params: 758,261\n",
            "Trainable params: 758,261\n",
            "Non-trainable params: 0\n",
            "_________________________________________________________________\n"
          ]
        }
      ]
    },
    {
      "cell_type": "markdown",
      "source": [
        "**Training Model**"
      ],
      "metadata": {
        "id": "Mn8XnZJoK_8J"
      }
    },
    {
      "cell_type": "code",
      "source": [
        "# Training the model\n",
        "epochs = 50\n",
        "batch_size = 16\n",
        "early_stop = EarlyStopping(monitor='loss', patience=5, verbose=1)\n",
        "\n",
        "history = model.fit(x_train, y_train, \n",
        "                    batch_size=batch_size, \n",
        "                    epochs=epochs,\n",
        "                    validation_data=(x_test, y_test),\n",
        "                    callbacks=[early_stop]\n",
        "                   )\n",
        "                    \n",
        "                    #callbacks=[early_stop])"
      ],
      "metadata": {
        "colab": {
          "base_uri": "https://localhost:8080/"
        },
        "id": "4QjP2ix2G933",
        "outputId": "d420aade-7f6a-4d9f-8101-195e576d9fba"
      },
      "execution_count": 28,
      "outputs": [
        {
          "output_type": "stream",
          "name": "stdout",
          "text": [
            "Epoch 1/50\n",
            "22/22 [==============================] - 4s 45ms/step - loss: 0.1251 - val_loss: 0.0176\n",
            "Epoch 2/50\n",
            "22/22 [==============================] - 0s 11ms/step - loss: 0.0515 - val_loss: 0.0152\n",
            "Epoch 3/50\n",
            "22/22 [==============================] - 0s 10ms/step - loss: 0.0425 - val_loss: 0.0178\n",
            "Epoch 4/50\n",
            "22/22 [==============================] - 0s 11ms/step - loss: 0.0452 - val_loss: 0.0081\n",
            "Epoch 5/50\n",
            "22/22 [==============================] - 0s 11ms/step - loss: 0.0340 - val_loss: 0.0101\n",
            "Epoch 6/50\n",
            "22/22 [==============================] - 0s 11ms/step - loss: 0.0315 - val_loss: 0.0153\n",
            "Epoch 7/50\n",
            "22/22 [==============================] - 0s 11ms/step - loss: 0.0298 - val_loss: 0.0222\n",
            "Epoch 8/50\n",
            "22/22 [==============================] - 0s 10ms/step - loss: 0.0257 - val_loss: 0.0078\n",
            "Epoch 9/50\n",
            "22/22 [==============================] - 0s 11ms/step - loss: 0.0269 - val_loss: 0.0114\n",
            "Epoch 10/50\n",
            "22/22 [==============================] - 0s 11ms/step - loss: 0.0291 - val_loss: 0.0057\n",
            "Epoch 11/50\n",
            "22/22 [==============================] - 0s 11ms/step - loss: 0.0274 - val_loss: 0.0254\n",
            "Epoch 12/50\n",
            "22/22 [==============================] - 0s 11ms/step - loss: 0.0286 - val_loss: 0.0093\n",
            "Epoch 13/50\n",
            "22/22 [==============================] - 0s 12ms/step - loss: 0.0217 - val_loss: 0.0026\n",
            "Epoch 14/50\n",
            "22/22 [==============================] - 0s 12ms/step - loss: 0.0254 - val_loss: 0.0057\n",
            "Epoch 15/50\n",
            "22/22 [==============================] - 0s 11ms/step - loss: 0.0193 - val_loss: 0.0028\n",
            "Epoch 16/50\n",
            "22/22 [==============================] - 0s 12ms/step - loss: 0.0239 - val_loss: 0.0106\n",
            "Epoch 17/50\n",
            "22/22 [==============================] - 0s 11ms/step - loss: 0.0162 - val_loss: 0.0152\n",
            "Epoch 18/50\n",
            "22/22 [==============================] - 0s 13ms/step - loss: 0.0216 - val_loss: 0.0039\n",
            "Epoch 19/50\n",
            "22/22 [==============================] - 0s 11ms/step - loss: 0.0212 - val_loss: 0.0015\n",
            "Epoch 20/50\n",
            "22/22 [==============================] - 0s 11ms/step - loss: 0.0182 - val_loss: 0.0095\n",
            "Epoch 21/50\n",
            "22/22 [==============================] - 0s 11ms/step - loss: 0.0166 - val_loss: 0.0055\n",
            "Epoch 22/50\n",
            "22/22 [==============================] - 0s 11ms/step - loss: 0.0192 - val_loss: 0.0012\n",
            "Epoch 22: early stopping\n"
          ]
        }
      ]
    },
    {
      "cell_type": "markdown",
      "source": [
        "### **5. Prediction and Visualization**"
      ],
      "metadata": {
        "id": "oNm92_KvLN2H"
      }
    },
    {
      "cell_type": "code",
      "source": [
        "fig, ax = plt.subplots(figsize=(16, 5), sharex=True)\n",
        "# sns.lineplot(data=history.history[\"val_loss\"])\n",
        "sns.lineplot(data=history.history[\"loss\"])\n",
        "plt.title(\"Model loss\")\n",
        "plt.ylabel(\"Loss\")\n",
        "plt.xlabel(\"Epoch\")\n",
        "ax.xaxis.set_major_locator(plt.MaxNLocator(epochs))\n",
        "plt.legend([\"Train\", \"Test\"], loc=\"upper left\")\n",
        "plt.grid()\n",
        "plt.show()"
      ],
      "metadata": {
        "colab": {
          "base_uri": "https://localhost:8080/",
          "height": 350
        },
        "id": "2JXTMmHsHD8X",
        "outputId": "a3cfd4d3-7828-486a-aa81-45de22eed12c"
      },
      "execution_count": 30,
      "outputs": [
        {
          "output_type": "display_data",
          "data": {
            "text/plain": [
              "<Figure size 1152x360 with 1 Axes>"
            ],
            "image/png": "[encoded data removed]"
          },
          "metadata": {
            "needs_background": "light"
          }
        }
      ]
    },
    {
      "cell_type": "code",
      "source": [
        "y_pred_scaled = model.predict(x_test)"
      ],
      "metadata": {
        "id": "JnwvaK6VHJrL"
      },
      "execution_count": 31,
      "outputs": []
    },
    {
      "cell_type": "code",
      "source": [
        "y_pred_scaled"
      ],
      "metadata": {
        "id": "vuk-GpVoNfKa"
      },
      "execution_count": null,
      "outputs": []
    },
    {
      "cell_type": "code",
      "source": [
        "# Unscale the predicted values\n",
        "y_pred = scaler_pred.inverse_transform(y_pred_scaled)\n",
        "y_test_unscaled = scaler_pred.inverse_transform(y_test.reshape(-1, 1))\n",
        "\n",
        "# Mean Absolute Error (MAE)\n",
        "MAE = mean_absolute_error(y_test_unscaled, y_pred)\n",
        "print(f'Median Absolute Error (MAE): {np.round(MAE, 2)}')\n",
        "\n",
        "# Mean Absolute Percentage Error (MAPE)\n",
        "MAPE = np.mean((np.abs(np.subtract(y_test_unscaled, y_pred)/ y_test_unscaled))) * 100\n",
        "print(f'Mean Absolute Percentage Error (MAPE): {np.round(MAPE, 2)} %')\n",
        "\n",
        "# Median Absolute Percentage Error (MDAPE)\n",
        "MDAPE = np.median((np.abs(np.subtract(y_test_unscaled, y_pred)/ y_test_unscaled)) ) * 100\n",
        "print(f'Median Absolute Percentage Error (MDAPE): {np.round(MDAPE, 2)} %')"
      ],
      "metadata": {
        "colab": {
          "base_uri": "https://localhost:8080/"
        },
        "id": "_u1d6k8EOISx",
        "outputId": "b404f1bd-9cf7-4ee9-d846-c4627f7c9073"
      },
      "execution_count": 33,
      "outputs": [
        {
          "output_type": "stream",
          "name": "stdout",
          "text": [
            "Median Absolute Error (MAE): 51.24\n",
            "Mean Absolute Percentage Error (MAPE): 2.07 %\n",
            "Median Absolute Percentage Error (MDAPE): 1.81 %\n"
          ]
        }
      ]
    },
    {
      "cell_type": "code",
      "source": [
        "display_start_date = \"2021-01-01\"\n",
        "\n",
        "# Add the date column\n",
        "data_filtered_sub = data_filtered.copy()\n",
        "data_filtered_sub['Date'] = date_index\n",
        "\n",
        "# Add the difference between the valid and predicted prices\n",
        "train = data_filtered_sub[:train_data_len + 1]\n",
        "valid = data_filtered_sub[train_data_len:]\n",
        "valid.insert(1, \"Prediction\", y_pred.ravel(), True)\n",
        "valid.insert(1, \"Difference\", valid[\"Prediction\"] - valid[\"Close\"], True)\n",
        "\n",
        "# Zoom in to a closer timeframe\n",
        "valid = valid[valid['Date'] > display_start_date]\n",
        "train = train[train['Date'] > display_start_date]\n",
        "\n",
        "# Visualize the data\n",
        "fig, ax1 = plt.subplots(figsize=(22, 10), sharex=True)\n",
        "xt = train['Date']; yt = train[[\"Close\"]]\n",
        "xv = valid['Date']; yv = valid[[\"Close\", \"Prediction\"]]\n",
        "plt.title(\"Predictions vs Actual Values\", fontsize=20)\n",
        "plt.ylabel(symbol, fontsize=18)\n",
        "plt.plot(xt, yt, color=\"#039dfc\", linewidth=2.0)\n",
        "plt.plot(xv, yv[\"Prediction\"], color=\"#E91D9E\", linewidth=2.0)\n",
        "plt.plot(xv, yv[\"Close\"], color=\"black\", linewidth=2.0)\n",
        "plt.legend([\"Train\", \"Test Predictions\", \"Actual Values\"], loc=\"upper left\")\n",
        "\n",
        "# # Create the bar plot with the differences\n",
        "x = valid['Date']\n",
        "y = valid[\"Difference\"]\n",
        "\n",
        "# Create custom color range for positive and negative differences\n",
        "valid.loc[y >= 0, 'diff_color'] = \"#2BC97A\"\n",
        "valid.loc[y < 0, 'diff_color'] = \"#C92B2B\"\n",
        "\n",
        "plt.bar(x, y, width=0.8, color=valid['diff_color'])\n",
        "plt.grid()\n",
        "plt.show()"
      ],
      "metadata": {
        "colab": {
          "base_uri": "https://localhost:8080/",
          "height": 588
        },
        "id": "gvhAGNzpOObL",
        "outputId": "e17d5cad-ff4d-41ca-c301-1d8254dc92c0"
      },
      "execution_count": 34,
      "outputs": [
        {
          "output_type": "display_data",
          "data": {
            "text/plain": [
              "<Figure size 1584x720 with 1 Axes>"
            ],
            "image/png": "[encoded data removed]"
          },
          "metadata": {
            "needs_background": "light"
          }
        }
      ]
    }
  ]
}